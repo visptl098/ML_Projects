{
 "cells": [
  {
   "cell_type": "code",
   "execution_count": 2,
   "id": "e6519978",
   "metadata": {
    "execution": {
     "iopub.execute_input": "2024-05-09T02:52:07.744179Z",
     "iopub.status.busy": "2024-05-09T02:52:07.743741Z",
     "iopub.status.idle": "2024-05-09T02:52:12.209289Z",
     "shell.execute_reply": "2024-05-09T02:52:12.208179Z"
    },
    "papermill": {
     "duration": 4.476735,
     "end_time": "2024-05-09T02:52:12.211834",
     "exception": false,
     "start_time": "2024-05-09T02:52:07.735099",
     "status": "completed"
    },
    "tags": []
   },
   "outputs": [],
   "source": [
    "# import all needed packages \n",
    "from sklearn.pipeline import Pipeline\n",
    "from xgboost import XGBClassifier\n",
    "from sklearn.impute import SimpleImputer\n",
    "from sklearn.preprocessing import StandardScaler, OneHotEncoder\n",
    "from sklearn.compose import ColumnTransformer\n",
    "from sklearn.ensemble import AdaBoostClassifier\n",
    "import pandas as pd\n",
    "import seaborn as sns\n",
    "import statsmodels.formula.api as smf\n",
    "import numpy as np\n",
    "import statsmodels.api as sm\n",
    "%matplotlib inline\n",
    "import matplotlib.pyplot as plt   \n",
    "from sklearn import metrics\n",
    "from sklearn.model_selection import train_test_split\n",
    "from sklearn.linear_model import LinearRegression\n",
    "from sklearn.preprocessing import StandardScaler \n",
    "from sklearn.model_selection import cross_val_score\n",
    "from sklearn.model_selection import RepeatedKFold\n",
    "from sklearn.linear_model import Lasso\n",
    "from numpy import absolute, mean, std\n",
    "from sklearn.linear_model import Ridge\n",
    "from sklearn.impute import SimpleImputer\n",
    "from sklearn.preprocessing import OneHotEncoder\n",
    "from sklearn.linear_model import LogisticRegression\n",
    "from sklearn.metrics import accuracy_score, confusion_matrix\n",
    "from sklearn.datasets import load_iris\n",
    "from sklearn.model_selection import cross_val_score\n",
    "from sklearn.tree import DecisionTreeClassifier\n",
    "from sklearn.ensemble import RandomForestClassifier"
   ]
  },
  {
   "cell_type": "code",
   "execution_count": 4,
   "id": "5a6b726e",
   "metadata": {
    "execution": {
     "iopub.execute_input": "2024-05-09T02:52:12.227926Z",
     "iopub.status.busy": "2024-05-09T02:52:12.227348Z",
     "iopub.status.idle": "2024-05-09T02:52:14.345677Z",
     "shell.execute_reply": "2024-05-09T02:52:14.344523Z"
    },
    "papermill": {
     "duration": 2.129051,
     "end_time": "2024-05-09T02:52:14.348012",
     "exception": false,
     "start_time": "2024-05-09T02:52:12.218961",
     "status": "completed"
    },
    "tags": []
   },
   "outputs": [
    {
     "data": {
      "text/html": [
       "<div>\n",
       "<style scoped>\n",
       "    .dataframe tbody tr th:only-of-type {\n",
       "        vertical-align: middle;\n",
       "    }\n",
       "\n",
       "    .dataframe tbody tr th {\n",
       "        vertical-align: top;\n",
       "    }\n",
       "\n",
       "    .dataframe thead th {\n",
       "        text-align: right;\n",
       "    }\n",
       "</style>\n",
       "<table border=\"1\" class=\"dataframe\">\n",
       "  <thead>\n",
       "    <tr style=\"text-align: right;\">\n",
       "      <th></th>\n",
       "      <th>CustomerID</th>\n",
       "      <th>Churn</th>\n",
       "      <th>Tenure</th>\n",
       "      <th>PreferredLoginDevice</th>\n",
       "      <th>CityTier</th>\n",
       "      <th>WarehouseToHome</th>\n",
       "      <th>PreferredPaymentMode</th>\n",
       "      <th>Gender</th>\n",
       "      <th>HourSpendOnApp</th>\n",
       "      <th>NumberOfDeviceRegistered</th>\n",
       "      <th>PreferedOrderCat</th>\n",
       "      <th>SatisfactionScore</th>\n",
       "      <th>MaritalStatus</th>\n",
       "      <th>NumberOfAddress</th>\n",
       "      <th>Complain</th>\n",
       "      <th>OrderAmountHikeFromlastYear</th>\n",
       "      <th>CouponUsed</th>\n",
       "      <th>OrderCount</th>\n",
       "      <th>DaySinceLastOrder</th>\n",
       "      <th>CashbackAmount</th>\n",
       "    </tr>\n",
       "  </thead>\n",
       "  <tbody>\n",
       "    <tr>\n",
       "      <th>0</th>\n",
       "      <td>50001</td>\n",
       "      <td>1</td>\n",
       "      <td>4.0</td>\n",
       "      <td>Mobile Phone</td>\n",
       "      <td>3</td>\n",
       "      <td>6.0</td>\n",
       "      <td>Debit Card</td>\n",
       "      <td>Female</td>\n",
       "      <td>3.0</td>\n",
       "      <td>3</td>\n",
       "      <td>Laptop &amp; Accessory</td>\n",
       "      <td>2</td>\n",
       "      <td>Single</td>\n",
       "      <td>9</td>\n",
       "      <td>1</td>\n",
       "      <td>11.0</td>\n",
       "      <td>1.0</td>\n",
       "      <td>1.0</td>\n",
       "      <td>5.0</td>\n",
       "      <td>159.93</td>\n",
       "    </tr>\n",
       "    <tr>\n",
       "      <th>1</th>\n",
       "      <td>50002</td>\n",
       "      <td>1</td>\n",
       "      <td>NaN</td>\n",
       "      <td>Phone</td>\n",
       "      <td>1</td>\n",
       "      <td>8.0</td>\n",
       "      <td>UPI</td>\n",
       "      <td>Male</td>\n",
       "      <td>3.0</td>\n",
       "      <td>4</td>\n",
       "      <td>Mobile</td>\n",
       "      <td>3</td>\n",
       "      <td>Single</td>\n",
       "      <td>7</td>\n",
       "      <td>1</td>\n",
       "      <td>15.0</td>\n",
       "      <td>0.0</td>\n",
       "      <td>1.0</td>\n",
       "      <td>0.0</td>\n",
       "      <td>120.90</td>\n",
       "    </tr>\n",
       "    <tr>\n",
       "      <th>2</th>\n",
       "      <td>50003</td>\n",
       "      <td>1</td>\n",
       "      <td>NaN</td>\n",
       "      <td>Phone</td>\n",
       "      <td>1</td>\n",
       "      <td>30.0</td>\n",
       "      <td>Debit Card</td>\n",
       "      <td>Male</td>\n",
       "      <td>2.0</td>\n",
       "      <td>4</td>\n",
       "      <td>Mobile</td>\n",
       "      <td>3</td>\n",
       "      <td>Single</td>\n",
       "      <td>6</td>\n",
       "      <td>1</td>\n",
       "      <td>14.0</td>\n",
       "      <td>0.0</td>\n",
       "      <td>1.0</td>\n",
       "      <td>3.0</td>\n",
       "      <td>120.28</td>\n",
       "    </tr>\n",
       "    <tr>\n",
       "      <th>3</th>\n",
       "      <td>50004</td>\n",
       "      <td>1</td>\n",
       "      <td>0.0</td>\n",
       "      <td>Phone</td>\n",
       "      <td>3</td>\n",
       "      <td>15.0</td>\n",
       "      <td>Debit Card</td>\n",
       "      <td>Male</td>\n",
       "      <td>2.0</td>\n",
       "      <td>4</td>\n",
       "      <td>Laptop &amp; Accessory</td>\n",
       "      <td>5</td>\n",
       "      <td>Single</td>\n",
       "      <td>8</td>\n",
       "      <td>0</td>\n",
       "      <td>23.0</td>\n",
       "      <td>0.0</td>\n",
       "      <td>1.0</td>\n",
       "      <td>3.0</td>\n",
       "      <td>134.07</td>\n",
       "    </tr>\n",
       "    <tr>\n",
       "      <th>4</th>\n",
       "      <td>50005</td>\n",
       "      <td>1</td>\n",
       "      <td>0.0</td>\n",
       "      <td>Phone</td>\n",
       "      <td>1</td>\n",
       "      <td>12.0</td>\n",
       "      <td>CC</td>\n",
       "      <td>Male</td>\n",
       "      <td>NaN</td>\n",
       "      <td>3</td>\n",
       "      <td>Mobile</td>\n",
       "      <td>5</td>\n",
       "      <td>Single</td>\n",
       "      <td>3</td>\n",
       "      <td>0</td>\n",
       "      <td>11.0</td>\n",
       "      <td>1.0</td>\n",
       "      <td>1.0</td>\n",
       "      <td>3.0</td>\n",
       "      <td>129.60</td>\n",
       "    </tr>\n",
       "  </tbody>\n",
       "</table>\n",
       "</div>"
      ],
      "text/plain": [
       "   CustomerID  Churn  Tenure PreferredLoginDevice  CityTier  WarehouseToHome  \\\n",
       "0       50001      1     4.0         Mobile Phone         3              6.0   \n",
       "1       50002      1     NaN                Phone         1              8.0   \n",
       "2       50003      1     NaN                Phone         1             30.0   \n",
       "3       50004      1     0.0                Phone         3             15.0   \n",
       "4       50005      1     0.0                Phone         1             12.0   \n",
       "\n",
       "  PreferredPaymentMode  Gender  HourSpendOnApp  NumberOfDeviceRegistered  \\\n",
       "0           Debit Card  Female             3.0                         3   \n",
       "1                  UPI    Male             3.0                         4   \n",
       "2           Debit Card    Male             2.0                         4   \n",
       "3           Debit Card    Male             2.0                         4   \n",
       "4                   CC    Male             NaN                         3   \n",
       "\n",
       "     PreferedOrderCat  SatisfactionScore MaritalStatus  NumberOfAddress  \\\n",
       "0  Laptop & Accessory                  2        Single                9   \n",
       "1              Mobile                  3        Single                7   \n",
       "2              Mobile                  3        Single                6   \n",
       "3  Laptop & Accessory                  5        Single                8   \n",
       "4              Mobile                  5        Single                3   \n",
       "\n",
       "   Complain  OrderAmountHikeFromlastYear  CouponUsed  OrderCount  \\\n",
       "0         1                         11.0         1.0         1.0   \n",
       "1         1                         15.0         0.0         1.0   \n",
       "2         1                         14.0         0.0         1.0   \n",
       "3         0                         23.0         0.0         1.0   \n",
       "4         0                         11.0         1.0         1.0   \n",
       "\n",
       "   DaySinceLastOrder  CashbackAmount  \n",
       "0                5.0          159.93  \n",
       "1                0.0          120.90  \n",
       "2                3.0          120.28  \n",
       "3                3.0          134.07  \n",
       "4                3.0          129.60  "
      ]
     },
     "execution_count": 4,
     "metadata": {},
     "output_type": "execute_result"
    }
   ],
   "source": [
    "df = pd.read_excel(\"E Commerce Dataset.xlsx\", sheet_name=1)\n",
    "\n",
    "df.head()"
   ]
  },
  {
   "cell_type": "markdown",
   "id": "355cd4eb",
   "metadata": {
    "papermill": {
     "duration": 0.007395,
     "end_time": "2024-05-09T02:52:14.378543",
     "exception": false,
     "start_time": "2024-05-09T02:52:14.371148",
     "status": "completed"
    },
    "tags": []
   },
   "source": [
    "### **Remove unnecessary columns**\n",
    "- Unnecessary information are noise for our model. We should remove them.\n",
    "- `CustomerID` is just a unique identifier to each user and has nothing to do with predicting if user churns or not. Let's drop it"
   ]
  },
  {
   "cell_type": "code",
   "execution_count": 5,
   "id": "8e79dd09",
   "metadata": {
    "execution": {
     "iopub.execute_input": "2024-05-09T02:52:14.395876Z",
     "iopub.status.busy": "2024-05-09T02:52:14.395174Z",
     "iopub.status.idle": "2024-05-09T02:52:14.407984Z",
     "shell.execute_reply": "2024-05-09T02:52:14.406824Z"
    },
    "papermill": {
     "duration": 0.024456,
     "end_time": "2024-05-09T02:52:14.410588",
     "exception": false,
     "start_time": "2024-05-09T02:52:14.386132",
     "status": "completed"
    },
    "tags": []
   },
   "outputs": [],
   "source": [
    "df = df.drop(['CustomerID'], axis=1)"
   ]
  },
  {
   "cell_type": "markdown",
   "id": "6ea407f8",
   "metadata": {
    "papermill": {
     "duration": 0.008505,
     "end_time": "2024-05-09T02:52:14.426778",
     "exception": false,
     "start_time": "2024-05-09T02:52:14.418273",
     "status": "completed"
    },
    "tags": []
   },
   "source": [
    "### **Duplicate rows**\n",
    "\n",
    "- Check if we have duplicate rows. Data set shouldn't have duplicate rows as they could bias the model\n",
    "- The data set doesn't have any duplicate rows"
   ]
  },
  {
   "cell_type": "code",
   "execution_count": 8,
   "id": "507d35e9",
   "metadata": {
    "execution": {
     "iopub.execute_input": "2024-05-09T02:52:14.444074Z",
     "iopub.status.busy": "2024-05-09T02:52:14.443467Z",
     "iopub.status.idle": "2024-05-09T02:52:14.463147Z",
     "shell.execute_reply": "2024-05-09T02:52:14.461774Z"
    },
    "papermill": {
     "duration": 0.031231,
     "end_time": "2024-05-09T02:52:14.465448",
     "exception": false,
     "start_time": "2024-05-09T02:52:14.434217",
     "status": "completed"
    },
    "tags": []
   },
   "outputs": [
    {
     "data": {
      "text/plain": [
       "True"
      ]
     },
     "execution_count": 8,
     "metadata": {},
     "output_type": "execute_result"
    }
   ],
   "source": [
    "df.duplicated().any()"
   ]
  },
  {
   "cell_type": "markdown",
   "id": "220e046d",
   "metadata": {
    "papermill": {
     "duration": 0.007756,
     "end_time": "2024-05-09T02:52:14.480901",
     "exception": false,
     "start_time": "2024-05-09T02:52:14.473145",
     "status": "completed"
    },
    "tags": []
   },
   "source": [
    "### **Define Numerical and Categorical columns**\n",
    "- It's important to define Numerical and Categorical columns to be able to understand how can we handle NULL values\n",
    "- Handling NULL values for Numerical and Categorical columns is quite different "
   ]
  },
  {
   "cell_type": "code",
   "execution_count": 9,
   "id": "65bc59b8",
   "metadata": {
    "execution": {
     "iopub.execute_input": "2024-05-09T02:52:14.498919Z",
     "iopub.status.busy": "2024-05-09T02:52:14.497688Z",
     "iopub.status.idle": "2024-05-09T02:52:14.506410Z",
     "shell.execute_reply": "2024-05-09T02:52:14.505137Z"
    },
    "papermill": {
     "duration": 0.020157,
     "end_time": "2024-05-09T02:52:14.508944",
     "exception": false,
     "start_time": "2024-05-09T02:52:14.488787",
     "status": "completed"
    },
    "tags": []
   },
   "outputs": [
    {
     "name": "stdout",
     "output_type": "stream",
     "text": [
      "Numerical columns:  ['Churn', 'Tenure', 'CityTier', 'WarehouseToHome', 'HourSpendOnApp', 'NumberOfDeviceRegistered', 'SatisfactionScore', 'NumberOfAddress', 'Complain', 'OrderAmountHikeFromlastYear', 'CouponUsed', 'OrderCount', 'DaySinceLastOrder', 'CashbackAmount']\n",
      "Categorical columns:  Index(['PreferredLoginDevice', 'PreferredPaymentMode', 'Gender',\n",
      "       'PreferedOrderCat', 'MaritalStatus'],\n",
      "      dtype='object')\n"
     ]
    }
   ],
   "source": [
    "cat_columns = df.select_dtypes(include=\"O\").columns\n",
    "num_columns = []\n",
    "for col in df.columns:\n",
    "    if col not in cat_columns:\n",
    "        num_columns.append(col)\n",
    "        \n",
    "print(\"Numerical columns: \", num_columns)\n",
    "print(\"Categorical columns: \", cat_columns)"
   ]
  },
  {
   "cell_type": "markdown",
   "id": "e690e969",
   "metadata": {
    "papermill": {
     "duration": 0.007514,
     "end_time": "2024-05-09T02:52:14.524426",
     "exception": false,
     "start_time": "2024-05-09T02:52:14.516912",
     "status": "completed"
    },
    "tags": []
   },
   "source": [
    "Let's look into the unique values of each Categorical column. It might help us to clean data up a bit."
   ]
  },
  {
   "cell_type": "code",
   "execution_count": 10,
   "id": "a15feb71",
   "metadata": {
    "execution": {
     "iopub.execute_input": "2024-05-09T02:52:14.542046Z",
     "iopub.status.busy": "2024-05-09T02:52:14.541605Z",
     "iopub.status.idle": "2024-05-09T02:52:14.550249Z",
     "shell.execute_reply": "2024-05-09T02:52:14.549115Z"
    },
    "papermill": {
     "duration": 0.020567,
     "end_time": "2024-05-09T02:52:14.552758",
     "exception": false,
     "start_time": "2024-05-09T02:52:14.532191",
     "status": "completed"
    },
    "tags": []
   },
   "outputs": [
    {
     "name": "stdout",
     "output_type": "stream",
     "text": [
      "PreferredLoginDevice ['Mobile Phone' 'Phone' 'Computer']\n",
      "PreferredPaymentMode ['Debit Card' 'UPI' 'CC' 'Cash on Delivery' 'E wallet' 'COD' 'Credit Card']\n",
      "Gender ['Female' 'Male']\n",
      "PreferedOrderCat ['Laptop & Accessory' 'Mobile' 'Mobile Phone' 'Others' 'Fashion' 'Grocery']\n",
      "MaritalStatus ['Single' 'Divorced' 'Married']\n"
     ]
    }
   ],
   "source": [
    "for col in cat_columns:\n",
    "    print(col, df[col].unique())"
   ]
  },
  {
   "cell_type": "markdown",
   "id": "c5c2153b",
   "metadata": {
    "papermill": {
     "duration": 0.007568,
     "end_time": "2024-05-09T02:52:14.568495",
     "exception": false,
     "start_time": "2024-05-09T02:52:14.560927",
     "status": "completed"
    },
    "tags": []
   },
   "source": [
    "- In `PreferredLoginDevice`, `Mobile Phone` and `Phone` can be merged into one category\n",
    "- In `PreferredPaymentMode`, `Credit Card` and `CC` can be merged into one category\n",
    "- In `PreferedOrderCat`, `Mobile Phone` and `Phone` can be merged into one category\n",
    "\n",
    "Let's do it!\n"
   ]
  },
  {
   "cell_type": "code",
   "execution_count": 11,
   "id": "295f9b45",
   "metadata": {
    "execution": {
     "iopub.execute_input": "2024-05-09T02:52:14.586394Z",
     "iopub.status.busy": "2024-05-09T02:52:14.585338Z",
     "iopub.status.idle": "2024-05-09T02:52:14.598480Z",
     "shell.execute_reply": "2024-05-09T02:52:14.597234Z"
    },
    "papermill": {
     "duration": 0.024845,
     "end_time": "2024-05-09T02:52:14.601064",
     "exception": false,
     "start_time": "2024-05-09T02:52:14.576219",
     "status": "completed"
    },
    "tags": []
   },
   "outputs": [],
   "source": [
    "df.replace(['Mobile Phone', 'Credit Card', 'Mobile Phone'], ['Phone', 'CC', 'Mobile'], inplace=True)"
   ]
  },
  {
   "cell_type": "markdown",
   "id": "9cf8c641",
   "metadata": {
    "papermill": {
     "duration": 0.007473,
     "end_time": "2024-05-09T02:52:14.616484",
     "exception": false,
     "start_time": "2024-05-09T02:52:14.609011",
     "status": "completed"
    },
    "tags": []
   },
   "source": [
    "### **NULL Values**\n",
    "- NULL values could make our model flaky due to values absence\n",
    "- The following columns have some NULL values\n",
    "\n",
    "```[Tenure, WarehouseToHome, HourSpendOnApp, OrderAmountHikeFromlastYear, CouponUsed, OrderCount, DaySinceLastOrder]```\n",
    "\n",
    "- All of these columns are Numerical columns. So, we ca replace NULL values with the mean value of the relevant column. We can do this as part of the pipeline right before training the model. Stay tuned 😉\n"
   ]
  },
  {
   "cell_type": "code",
   "execution_count": 12,
   "id": "605373db",
   "metadata": {
    "execution": {
     "iopub.execute_input": "2024-05-09T02:52:14.634169Z",
     "iopub.status.busy": "2024-05-09T02:52:14.633770Z",
     "iopub.status.idle": "2024-05-09T02:52:14.644652Z",
     "shell.execute_reply": "2024-05-09T02:52:14.643494Z"
    },
    "papermill": {
     "duration": 0.022104,
     "end_time": "2024-05-09T02:52:14.646835",
     "exception": false,
     "start_time": "2024-05-09T02:52:14.624731",
     "status": "completed"
    },
    "tags": []
   },
   "outputs": [
    {
     "data": {
      "text/plain": [
       "Churn                            0\n",
       "Tenure                         264\n",
       "PreferredLoginDevice             0\n",
       "CityTier                         0\n",
       "WarehouseToHome                251\n",
       "PreferredPaymentMode             0\n",
       "Gender                           0\n",
       "HourSpendOnApp                 255\n",
       "NumberOfDeviceRegistered         0\n",
       "PreferedOrderCat                 0\n",
       "SatisfactionScore                0\n",
       "MaritalStatus                    0\n",
       "NumberOfAddress                  0\n",
       "Complain                         0\n",
       "OrderAmountHikeFromlastYear    265\n",
       "CouponUsed                     256\n",
       "OrderCount                     258\n",
       "DaySinceLastOrder              307\n",
       "CashbackAmount                   0\n",
       "dtype: int64"
      ]
     },
     "execution_count": 12,
     "metadata": {},
     "output_type": "execute_result"
    }
   ],
   "source": [
    "df.isna().sum()"
   ]
  },
  {
   "cell_type": "markdown",
   "id": "47822a89",
   "metadata": {
    "papermill": {
     "duration": 0.008196,
     "end_time": "2024-05-09T02:52:14.663439",
     "exception": false,
     "start_time": "2024-05-09T02:52:14.655243",
     "status": "completed"
    },
    "tags": []
   },
   "source": [
    "### **Handling Categorical Variables**\n",
    "- In our data set, the following columns are categories: ```['PreferredLoginDevice', 'PreferredPaymentMode', 'Gender','PreferedOrderCat', 'MaritalStatus']```\n",
    "- As part of our pipeline, we have to use `OneHotEncoder` to encode the categories"
   ]
  },
  {
   "cell_type": "markdown",
   "id": "703912a2",
   "metadata": {
    "papermill": {
     "duration": 0.008627,
     "end_time": "2024-05-09T02:52:14.680496",
     "exception": false,
     "start_time": "2024-05-09T02:52:14.671869",
     "status": "completed"
    },
    "tags": []
   },
   "source": [
    "### **Data Standardisation**\n",
    "- It's a way to transform data points to have mean of the values is 0 and the standard deviation is 1\n",
    "- This step is needed because different data columns have different scales"
   ]
  },
  {
   "cell_type": "markdown",
   "id": "9dc7daf1",
   "metadata": {
    "papermill": {
     "duration": 0.007876,
     "end_time": "2024-05-09T02:52:14.696540",
     "exception": false,
     "start_time": "2024-05-09T02:52:14.688664",
     "status": "completed"
    },
    "tags": []
   },
   "source": [
    "Aaaaaaand, now it's time to start training & testing different models and getting into the experiment phase. But before that, let's have a look into `train_and_test` method first. \n",
    "`train_and_test` method takes:\n",
    "- `X` --> data independent variables\n",
    "- `y` --> data dependent variable (Churn or Not in our case)\n",
    "- `classifier` --> which is classification model (i.e. Logistic, Decision Tree, ...etc)\n",
    "\n",
    "`train_and_test` method does:\n",
    "- Encode categorical columns using OneHotEncoder\n",
    "- Fill numerical NULL values with the mean value of the relevant column (aka Imputation)\n",
    "- Create the data transformer\n",
    "- Create the model pipeline given transformer and classifier\n",
    "- Prpeare training and testing data\n",
    "- Fit the model using the tarining data\n",
    "- Calculate accuracy and confusion matix for training and testing data\n",
    "\n",
    "Simply, `train_and_test` method does everything for us! "
   ]
  },
  {
   "cell_type": "code",
   "execution_count": 14,
   "id": "0c5f6bd4",
   "metadata": {
    "execution": {
     "iopub.execute_input": "2024-05-09T02:52:14.714460Z",
     "iopub.status.busy": "2024-05-09T02:52:14.714036Z",
     "iopub.status.idle": "2024-05-09T02:52:14.725436Z",
     "shell.execute_reply": "2024-05-09T02:52:14.723960Z"
    },
    "papermill": {
     "duration": 0.023477,
     "end_time": "2024-05-09T02:52:14.727993",
     "exception": false,
     "start_time": "2024-05-09T02:52:14.704516",
     "status": "completed"
    },
    "tags": []
   },
   "outputs": [],
   "source": [
    "def train_and_test (X, y, classifier, test_size, enable_print = True): \n",
    "    # get categorical and numerical columns\n",
    "    cat_columns = X.select_dtypes(include=\"O\").columns\n",
    "    num_columns = []\n",
    "    for col in X.columns:\n",
    "        if col not in cat_columns:\n",
    "            num_columns.append(col)\n",
    "    \n",
    "    # encode categorical columns using OneHotEncoder\n",
    "    categorical_col = Pipeline(steps=[\n",
    "          ('encoding', OneHotEncoder())\n",
    "      ])\n",
    "    \n",
    "    # fill numerical NULL values with the mean value of the relevant column\n",
    "    numerical_col = Pipeline(steps=[\n",
    "          ('imputer', SimpleImputer(strategy=\"mean\")),\n",
    "          ('scaler', StandardScaler())\n",
    "      ])\n",
    "    \n",
    "    # transform data\n",
    "    transformer = ColumnTransformer(transformers=[\n",
    "        ('categorical_col', categorical_col, cat_columns),    \n",
    "        ('numerical_col', numerical_col, num_columns)\n",
    "      ])\n",
    "    \n",
    "    # create model\n",
    "    model = Pipeline([\n",
    "          ('transformer', transformer),\n",
    "          ('classifier', classifier)\n",
    "      ])\n",
    "\n",
    "    # prpeare training and testing data\n",
    "    X_train, X_test, y_train, y_test = train_test_split(X, y, test_size=test_size, random_state=42)\n",
    "\n",
    "    # fit the model\n",
    "    model.fit(X_train, y_train)\n",
    "    \n",
    "    # calculate the training data accuracy and confusion matix\n",
    "    pred = model.predict(X_train)\n",
    "    accuracy = accuracy_score(y_train, pred)\n",
    "    matrix = confusion_matrix(y_train, pred)\n",
    "    if enable_print:\n",
    "        print('Train confusion matrix:\\n', matrix)\n",
    "        print('Train accuracy: ', accuracy * 100, '%')\n",
    "\n",
    "    # calculate the testing data accuracy and confusion matix\n",
    "    pred = model.predict(X_test)\n",
    "    accuracy = accuracy_score(y_test, pred)\n",
    "    matrix = confusion_matrix(y_test, pred)\n",
    "    if enable_print: \n",
    "        print('Test confusion matrix:\\n', matrix)\n",
    "        print('Test accuracy: ', accuracy * 100, '%')\n",
    "        print(\"=====================================================================\")\n",
    "  \n",
    "    return accuracy"
   ]
  },
  {
   "cell_type": "code",
   "execution_count": 15,
   "id": "9debd5d4",
   "metadata": {
    "execution": {
     "iopub.execute_input": "2024-05-09T02:52:14.746520Z",
     "iopub.status.busy": "2024-05-09T02:52:14.745451Z",
     "iopub.status.idle": "2024-05-09T02:52:14.752652Z",
     "shell.execute_reply": "2024-05-09T02:52:14.751689Z"
    },
    "papermill": {
     "duration": 0.019034,
     "end_time": "2024-05-09T02:52:14.755106",
     "exception": false,
     "start_time": "2024-05-09T02:52:14.736072",
     "status": "completed"
    },
    "tags": []
   },
   "outputs": [],
   "source": [
    "# prepare X and y\n",
    "X = df.drop(columns=[\"Churn\"])\n",
    "y = df[\"Churn\"]\n",
    "test_size = 0.2"
   ]
  },
  {
   "cell_type": "markdown",
   "id": "a51e176c",
   "metadata": {
    "papermill": {
     "duration": 0.008225,
     "end_time": "2024-05-09T02:52:14.771565",
     "exception": false,
     "start_time": "2024-05-09T02:52:14.763340",
     "status": "completed"
    },
    "tags": []
   },
   "source": [
    "# **Training the model**\n",
    "\n",
    "Next, we will try different Classifiers and compare accuracies using cross validation.\n",
    "\n",
    "Let's kepp it simple stupid at the beginning. We can go with the simplest Classifier, Logistic Classifier"
   ]
  },
  {
   "cell_type": "code",
   "execution_count": 16,
   "id": "598433f2",
   "metadata": {
    "execution": {
     "iopub.execute_input": "2024-05-09T02:52:14.789855Z",
     "iopub.status.busy": "2024-05-09T02:52:14.789442Z",
     "iopub.status.idle": "2024-05-09T02:52:14.909729Z",
     "shell.execute_reply": "2024-05-09T02:52:14.907964Z"
    },
    "papermill": {
     "duration": 0.132619,
     "end_time": "2024-05-09T02:52:14.912518",
     "exception": false,
     "start_time": "2024-05-09T02:52:14.779899",
     "status": "completed"
    },
    "tags": []
   },
   "outputs": [
    {
     "name": "stdout",
     "output_type": "stream",
     "text": [
      "========================== Logistic Classifier ==========================\n",
      "Train confusion matrix:\n",
      " [[3623  118]\n",
      " [ 377  386]]\n",
      "Train accuracy:  89.00976909413855 %\n",
      "Test confusion matrix:\n",
      " [[925  16]\n",
      " [ 81 104]]\n",
      "Test accuracy:  91.3854351687389 %\n",
      "=====================================================================\n"
     ]
    }
   ],
   "source": [
    "print(\"========================== Logistic Classifier ==========================\")\n",
    "model = train_and_test(X, y, LogisticRegression(solver='liblinear'), test_size)"
   ]
  },
  {
   "cell_type": "markdown",
   "id": "bfc7faa5",
   "metadata": {
    "papermill": {
     "duration": 0.012733,
     "end_time": "2024-05-09T02:52:14.938040",
     "exception": false,
     "start_time": "2024-05-09T02:52:14.925307",
     "status": "completed"
    },
    "tags": []
   },
   "source": [
    "Really good that Logistic Classifier gives around 91% accuracy for test data. Let's increase the model complexity, time to test with **Decision Tree Classifier**"
   ]
  },
  {
   "cell_type": "code",
   "execution_count": 17,
   "id": "67729155",
   "metadata": {
    "execution": {
     "iopub.execute_input": "2024-05-09T02:52:14.967089Z",
     "iopub.status.busy": "2024-05-09T02:52:14.966519Z",
     "iopub.status.idle": "2024-05-09T02:52:15.071986Z",
     "shell.execute_reply": "2024-05-09T02:52:15.070527Z"
    },
    "papermill": {
     "duration": 0.123098,
     "end_time": "2024-05-09T02:52:15.074354",
     "exception": false,
     "start_time": "2024-05-09T02:52:14.951256",
     "status": "completed"
    },
    "tags": []
   },
   "outputs": [
    {
     "name": "stdout",
     "output_type": "stream",
     "text": [
      "========================== DecisionTreeClassifier ==========================\n",
      "Train confusion matrix:\n",
      " [[3741    0]\n",
      " [   0  763]]\n",
      "Train accuracy:  100.0 %\n",
      "Test confusion matrix:\n",
      " [[928  13]\n",
      " [ 17 168]]\n",
      "Test accuracy:  97.33570159857904 %\n",
      "=====================================================================\n"
     ]
    }
   ],
   "source": [
    "print(\"========================== DecisionTreeClassifier ==========================\")\n",
    "model = train_and_test(X, y, DecisionTreeClassifier(random_state=42), test_size)"
   ]
  },
  {
   "cell_type": "markdown",
   "id": "b13b9d84",
   "metadata": {
    "papermill": {
     "duration": 0.008416,
     "end_time": "2024-05-09T02:52:15.091017",
     "exception": false,
     "start_time": "2024-05-09T02:52:15.082601",
     "status": "completed"
    },
    "tags": []
   },
   "source": [
    "We can see quite huge jump in both train and test accuracies. However, it might be the overfitting problem is here because Bias is zero and Variance is quite high compared to Bias.\n",
    "\n",
    "\n",
    "One solution here is to use an ensemble boosting algorithm that can help to decrease Variance, XGB Classifier."
   ]
  },
  {
   "cell_type": "code",
   "execution_count": 18,
   "id": "732f6549",
   "metadata": {
    "execution": {
     "iopub.execute_input": "2024-05-09T02:52:15.110723Z",
     "iopub.status.busy": "2024-05-09T02:52:15.109762Z",
     "iopub.status.idle": "2024-05-09T02:52:15.363687Z",
     "shell.execute_reply": "2024-05-09T02:52:15.362466Z"
    },
    "papermill": {
     "duration": 0.265819,
     "end_time": "2024-05-09T02:52:15.366064",
     "exception": false,
     "start_time": "2024-05-09T02:52:15.100245",
     "status": "completed"
    },
    "tags": []
   },
   "outputs": [
    {
     "name": "stdout",
     "output_type": "stream",
     "text": [
      "========================== XGBClassifier ==========================\n",
      "Train confusion matrix:\n",
      " [[3741    0]\n",
      " [   0  763]]\n",
      "Train accuracy:  100.0 %\n",
      "Test confusion matrix:\n",
      " [[938   3]\n",
      " [ 16 169]]\n",
      "Test accuracy:  98.3126110124334 %\n",
      "=====================================================================\n"
     ]
    }
   ],
   "source": [
    "print(\"========================== XGBClassifier ==========================\")\n",
    "model = train_and_test(X, y, XGBClassifier(), test_size)"
   ]
  },
  {
   "cell_type": "markdown",
   "id": "08a9f5ce",
   "metadata": {
    "papermill": {
     "duration": 0.007915,
     "end_time": "2024-05-09T02:52:15.382393",
     "exception": false,
     "start_time": "2024-05-09T02:52:15.374478",
     "status": "completed"
    },
    "tags": []
   },
   "source": [
    "Cool, XGBClassifier successded to improve Test accuracy by around 1%. Next step to improve the accuracy is to do XGB Classifier Hypertuning \n",
    "\n",
    "\n",
    "# **Hypertuning XGBClassifier params**"
   ]
  },
  {
   "cell_type": "code",
   "execution_count": 19,
   "id": "d041c1bd",
   "metadata": {
    "execution": {
     "iopub.execute_input": "2024-05-09T02:52:15.401148Z",
     "iopub.status.busy": "2024-05-09T02:52:15.400202Z",
     "iopub.status.idle": "2024-05-09T02:52:18.821936Z",
     "shell.execute_reply": "2024-05-09T02:52:18.820736Z"
    },
    "papermill": {
     "duration": 3.433584,
     "end_time": "2024-05-09T02:52:18.824190",
     "exception": false,
     "start_time": "2024-05-09T02:52:15.390606",
     "status": "completed"
    },
    "tags": []
   },
   "outputs": [
    {
     "data": {
      "image/png": "[encoded data removed]",
      "text/plain": [
       "<Figure size 640x480 with 1 Axes>"
      ]
     },
     "metadata": {},
     "output_type": "display_data"
    }
   ],
   "source": [
    "# Tree max depth hypertuning\n",
    "max_depth = []\n",
    "accuracies = []\n",
    "\n",
    "for i in range(4, 30, 2):\n",
    "    grid = {'max_depth': i}\n",
    "    clf = XGBClassifier()\n",
    "    clf.set_params(**grid)\n",
    "    accuracy = train_and_test(X, y, clf, test_size, False)\n",
    "    \n",
    "    max_depth.append(i)\n",
    "    accuracies.append(accuracy)\n",
    "\n",
    "plt.title(\"Max Depth hypertuning\")\n",
    "plt.xlabel(\"XGBClassifier Max Depth\")\n",
    "plt.ylabel(\"Test Accuracy\")\n",
    "plt.plot(max_depth, accuracies, 'b')\n",
    "plt.grid()"
   ]
  },
  {
   "cell_type": "code",
   "execution_count": 20,
   "id": "05eb24f6",
   "metadata": {
    "execution": {
     "iopub.execute_input": "2024-05-09T02:52:18.844465Z",
     "iopub.status.busy": "2024-05-09T02:52:18.844064Z",
     "iopub.status.idle": "2024-05-09T02:52:21.641232Z",
     "shell.execute_reply": "2024-05-09T02:52:21.639983Z"
    },
    "papermill": {
     "duration": 2.810418,
     "end_time": "2024-05-09T02:52:21.643681",
     "exception": false,
     "start_time": "2024-05-09T02:52:18.833263",
     "status": "completed"
    },
    "tags": []
   },
   "outputs": [
    {
     "data": {
      "image/png": "[encoded data removed]",
      "text/plain": [
       "<Figure size 640x480 with 1 Axes>"
      ]
     },
     "metadata": {},
     "output_type": "display_data"
    }
   ],
   "source": [
    "# Learning rate hypertuning\n",
    "learning_rates = []\n",
    "accuracies = []\n",
    "\n",
    "for i in range(0, 10, 1):\n",
    "    eta = i / 10\n",
    "    grid = {'max_depth': 12, 'eta': eta}\n",
    "    clf = XGBClassifier()\n",
    "    clf.set_params(**grid)\n",
    "    accuracy = train_and_test(X, y, clf, test_size, False)\n",
    "    \n",
    "    learning_rates.append(i)\n",
    "    accuracies.append(accuracy)\n",
    "\n",
    "plt.title(\"Learning Rate hypertuning\")\n",
    "plt.xlabel(\"XGBClassifier Learning Rate\")\n",
    "plt.ylabel(\"Test Accuracy\")\n",
    "plt.plot(learning_rates, accuracies, 'b')\n",
    "plt.grid()"
   ]
  },
  {
   "cell_type": "code",
   "execution_count": 21,
   "id": "cbdf09e1",
   "metadata": {
    "execution": {
     "iopub.execute_input": "2024-05-09T02:52:21.664449Z",
     "iopub.status.busy": "2024-05-09T02:52:21.664064Z",
     "iopub.status.idle": "2024-05-09T02:52:34.044943Z",
     "shell.execute_reply": "2024-05-09T02:52:34.043776Z"
    },
    "papermill": {
     "duration": 12.394153,
     "end_time": "2024-05-09T02:52:34.047391",
     "exception": false,
     "start_time": "2024-05-09T02:52:21.653238",
     "status": "completed"
    },
    "tags": []
   },
   "outputs": [
    {
     "data": {
      "image/png": "[encoded data removed]",
      "text/plain": [
       "<Figure size 640x480 with 1 Axes>"
      ]
     },
     "metadata": {},
     "output_type": "display_data"
    }
   ],
   "source": [
    "# Number of estimators hypertuning\n",
    "n_estimators = []\n",
    "accuracies = []\n",
    "\n",
    "for i in range(1, 1000, 50):\n",
    "    grid = {'max_depth': 12, 'eta': 0.4, 'n_estimators': i}\n",
    "    clf = XGBClassifier()\n",
    "    clf.set_params(**grid)\n",
    "    accuracy = train_and_test(X, y, clf, test_size, False)\n",
    "    \n",
    "    n_estimators.append(i)\n",
    "    accuracies.append(accuracy)\n",
    "\n",
    "plt.title(\"Number of estimators hypertuning\")\n",
    "plt.xlabel(\"XGBClassifier Number of estimators\")\n",
    "plt.ylabel(\"Test Accuracy\")\n",
    "plt.plot(n_estimators, accuracies, 'g')\n",
    "plt.grid()\n"
   ]
  },
  {
   "cell_type": "markdown",
   "id": "70f790b9",
   "metadata": {
    "papermill": {
     "duration": 0.009673,
     "end_time": "2024-05-09T02:52:34.067409",
     "exception": false,
     "start_time": "2024-05-09T02:52:34.057736",
     "status": "completed"
    },
    "tags": []
   },
   "source": [
    "After hypertuning XGB Classifier params, we use the optimal values:\n",
    "* max_depth: 16\n",
    "* eta: 0.4\n",
    "* n_estimators: 400\n",
    "\n",
    "Let's do final model with the hypertuned params."
   ]
  },
  {
   "cell_type": "code",
   "execution_count": 22,
   "id": "d76bbcf5",
   "metadata": {
    "execution": {
     "iopub.execute_input": "2024-05-09T02:52:34.089728Z",
     "iopub.status.busy": "2024-05-09T02:52:34.088712Z",
     "iopub.status.idle": "2024-05-09T02:52:34.655549Z",
     "shell.execute_reply": "2024-05-09T02:52:34.654231Z"
    },
    "papermill": {
     "duration": 0.580603,
     "end_time": "2024-05-09T02:52:34.658003",
     "exception": false,
     "start_time": "2024-05-09T02:52:34.077400",
     "status": "completed"
    },
    "tags": []
   },
   "outputs": [
    {
     "name": "stdout",
     "output_type": "stream",
     "text": [
      "========================== XGBClassifier with hypertuned params ==========================\n",
      "Train confusion matrix:\n",
      " [[3741    0]\n",
      " [   0  763]]\n",
      "Train accuracy:  100.0 %\n",
      "Test confusion matrix:\n",
      " [[940   1]\n",
      " [ 12 173]]\n",
      "Test accuracy:  98.84547069271758 %\n",
      "=====================================================================\n"
     ]
    }
   ],
   "source": [
    "print(\"========================== XGBClassifier with hypertuned params ==========================\")\n",
    "grid = {'max_depth': 16, 'eta': 0.4, 'alpha': 0, 'lambda': 1, 'n_estimators': 400}\n",
    "clf = XGBClassifier()\n",
    "clf.set_params(**grid)\n",
    "accuracy = train_and_test(X, y, clf, test_size)"
   ]
  },
  {
   "cell_type": "code",
   "execution_count": 23,
   "id": "6ad0196f",
   "metadata": {},
   "outputs": [],
   "source": [
    "import pickle\n",
    "\n",
    "# Save the model to a file\n",
    "with open('trained_model.pkl', 'wb') as f:\n",
    "    pickle.dump(model, f)\n"
   ]
  }
 ],
 "metadata": {
  "kaggle": {
   "accelerator": "none",
   "dataSources": [
    {
     "datasetId": 1119908,
     "sourceId": 1880629,
     "sourceType": "datasetVersion"
    }
   ],
   "dockerImageVersionId": 30698,
   "isGpuEnabled": false,
   "isInternetEnabled": false,
   "language": "python",
   "sourceType": "notebook"
  },
  "kernelspec": {
   "display_name": "Python 3",
   "language": "python",
   "name": "python3"
  },
  "language_info": {
   "codemirror_mode": {
    "name": "ipython",
    "version": 3
   },
   "file_extension": ".py",
   "mimetype": "text/x-python",
   "name": "python",
   "nbconvert_exporter": "python",
   "pygments_lexer": "ipython3",
   "version": "3.11.4"
  },
  "papermill": {
   "default_parameters": {},
   "duration": 30.914275,
   "end_time": "2024-05-09T02:52:35.510644",
   "environment_variables": {},
   "exception": null,
   "input_path": "__notebook__.ipynb",
   "output_path": "__notebook__.ipynb",
   "parameters": {},
   "start_time": "2024-05-09T02:52:04.596369",
   "version": "2.5.0"
  }
 },
 "nbformat": 4,
 "nbformat_minor": 5
}
